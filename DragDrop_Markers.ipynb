{
  "nbformat": 4,
  "nbformat_minor": 0,
  "metadata": {
    "colab": {
      "provenance": [],
      "authorship_tag": "ABX9TyM6KLpxhq0JPA/u9NGObbnB",
      "include_colab_link": true
    },
    "kernelspec": {
      "name": "python3",
      "display_name": "Python 3"
    },
    "language_info": {
      "name": "python"
    }
  },
  "cells": [
    {
      "cell_type": "markdown",
      "metadata": {
        "id": "view-in-github",
        "colab_type": "text"
      },
      "source": [
        "<a href=\"https://colab.research.google.com/github/peppefdf/CSL_Gipuzkoa/blob/main/DragDrop_Markers.ipynb\" target=\"_parent\"><img src=\"https://colab.research.google.com/assets/colab-badge.svg\" alt=\"Open In Colab\"/></a>"
      ]
    },
    {
      "cell_type": "code",
      "execution_count": 93,
      "metadata": {
        "colab": {
          "base_uri": "https://localhost:8080/",
          "height": 671
        },
        "id": "hLjT2zI7kJpz",
        "outputId": "6f87761b-8f18-4032-de85-774860d69a06"
      },
      "outputs": [
        {
          "output_type": "display_data",
          "data": {
            "text/plain": [
              "<IPython.core.display.Javascript object>"
            ],
            "application/javascript": [
              "(async (port, path, width, height, cache, element) => {\n",
              "    if (!google.colab.kernel.accessAllowed && !cache) {\n",
              "      return;\n",
              "    }\n",
              "    element.appendChild(document.createTextNode(''));\n",
              "    const url = await google.colab.kernel.proxyPort(port, {cache});\n",
              "    const iframe = document.createElement('iframe');\n",
              "    iframe.src = new URL(path, url).toString();\n",
              "    iframe.height = height;\n",
              "    iframe.width = width;\n",
              "    iframe.style.border = 0;\n",
              "    iframe.allow = [\n",
              "        'accelerometer',\n",
              "        'autoplay',\n",
              "        'camera',\n",
              "        'clipboard-read',\n",
              "        'clipboard-write',\n",
              "        'gyroscope',\n",
              "        'magnetometer',\n",
              "        'microphone',\n",
              "        'serial',\n",
              "        'usb',\n",
              "        'xr-spatial-tracking',\n",
              "    ].join('; ');\n",
              "    element.appendChild(iframe);\n",
              "  })(8050, \"/\", \"100%\", 650, false, window.element)"
            ]
          },
          "metadata": {}
        }
      ],
      "source": [
        "#%pip install osmnx\n",
        "#%pip install dash\n",
        "#%pip install dash_leaflet\n",
        "#%pip install dash_bootstrap_components\n",
        "#%pip install GDAL # install GDAL first and then rasterio (3.4.0?)\n",
        "#%pip install rasterio\n",
        "#%pip install peartree\n",
        "#%pip install diskcache\n",
        "###%pip install \"dash[diskcache]\"\n",
        "#%pip install multiprocess\n",
        "#%pip install psutil\n",
        "#%pip install pandana\n",
        "\n",
        "from dash import Dash\n",
        "import dash_bootstrap_components as dbc\n",
        "#import dash_html_components as html\n",
        "from dash import html, callback_context\n",
        "from dash import dcc, Output, Input, State, callback\n",
        "import dash_leaflet as dl\n",
        "import re\n",
        "\n",
        "# Custom icon as per official docs https://leafletjs.com/examples/custom-icons/\n",
        "custom_icon = dict(\n",
        "    iconUrl='https://leafletjs.com/examples/custom-icons/leaf-green.png',\n",
        "    shadowUrl='https://leafletjs.com/examples/custom-icons/leaf-shadow.png',\n",
        "    iconSize=[38, 95],\n",
        "    shadowSize=[50, 64],\n",
        "    iconAnchor=[22, 94],\n",
        "    shadowAnchor=[4, 62],\n",
        "    popupAnchor=[-3, -76]\n",
        ")\n",
        "# Small example app.\n",
        "positions = [(57, 11), (57, 10), (58, 10)]\n",
        "markers = [dl.Marker(dl.Tooltip(\"double click on Marker after drag to update its position\"), position=pos, id=\"marker{}\".format(i), draggable=True) for i, pos in enumerate(positions)]\n",
        "\n",
        "app = Dash(prevent_initial_callbacks=True)\n",
        "app.layout = html.Div([\n",
        "    html.Div(dl.Map([dl.TileLayer()]+\n",
        "                     markers,\n",
        "                     center=(57, 10.5), zoom=6, id=\"map\",\n",
        "                     style={'width': '100%', 'height': '50vh', 'margin': \"auto\", \"display\": \"block\"})),\n",
        "    html.Div(id='clickdata'),\n",
        "    dcc.Store(id='internal-value', data=positions)\n",
        "])\n",
        "\n",
        "#@app.callback(Output(\"clickdata\", \"children\"),\n",
        "@app.callback([Output(\"clickdata\", \"children\"),Output('internal-value','data'), Output('map','children')],\n",
        "              State('internal-value','data'),\n",
        "              [Input(marker.id, \"dblclickData\") for marker in markers])\n",
        "def marker_click(St,*args):\n",
        "    marker_id = callback_context.triggered[0][\"prop_id\"].split(\".\")[0]\n",
        "    marker_lat = callback_context.triggered[0]['value']['latlng']['lat']\n",
        "    marker_lon = callback_context.triggered[0]['value']['latlng']['lng']\n",
        "    marker_s = callback_context.inputs\n",
        "    temp = re.compile(\"([a-zA-Z]+)([0-9]+)\")\n",
        "    id = temp.match(marker_id).groups()[-1]\n",
        "    #return \"New position of {}\".format(marker_id) + \": {}\".format(marker_lat) + \", {}\".format(marker_lon)\n",
        "    St[int(id)] = (marker_lat,marker_lon)\n",
        "    out = str(St[0][0]) + ', ' + str(St[0][1]) + '; '\n",
        "    out = out + str(St[1][0]) + ', ' + str(St[1][1]) + '; '\n",
        "    out = out + str(St[2][0]) + ', ' + str(St[2][1]) + '; '\n",
        "    markers = [dl.Marker(dl.Tooltip(\"double click on Marker after drag to update its position\"), position=pos, id=\"marker{}\".format(i), draggable=True) for i, pos in enumerate(St)]\n",
        "    newMap = dl.Map([dl.TileLayer()]+\n",
        "                     markers,\n",
        "                     center=(57, 10.5), zoom=6, id=\"map\",\n",
        "                     style={'width': '100%', 'height': '50vh', 'margin': \"auto\", \"display\": \"block\"})\n",
        "    return [out,St, newMap]\n",
        "\n",
        "if __name__ == '__main__':\n",
        "    app.run_server(debug=True)"
      ]
    }
  ]
}