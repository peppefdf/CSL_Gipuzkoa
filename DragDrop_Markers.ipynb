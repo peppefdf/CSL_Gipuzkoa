{
  "nbformat": 4,
  "nbformat_minor": 0,
  "metadata": {
    "colab": {
      "provenance": [],
      "mount_file_id": "1U8m6vJ6ZjOWwzQpdOV6UH-_CXGLnoKBS",
      "authorship_tag": "ABX9TyO+Ep8iviEITsPa/pnItfzp",
      "include_colab_link": true
    },
    "kernelspec": {
      "name": "python3",
      "display_name": "Python 3"
    },
    "language_info": {
      "name": "python"
    }
  },
  "cells": [
    {
      "cell_type": "markdown",
      "metadata": {
        "id": "view-in-github",
        "colab_type": "text"
      },
      "source": [
        "<a href=\"https://colab.research.google.com/github/peppefdf/CSL_Gipuzkoa/blob/main/DragDrop_Markers.ipynb\" target=\"_parent\"><img src=\"https://colab.research.google.com/assets/colab-badge.svg\" alt=\"Open In Colab\"/></a>"
      ]
    },
    {
      "cell_type": "code",
      "execution_count": 182,
      "metadata": {
        "id": "hLjT2zI7kJpz",
        "colab": {
          "base_uri": "https://localhost:8080/",
          "height": 688
        },
        "outputId": "10082db9-f542-4d5c-a225-07f954f8e351"
      },
      "outputs": [
        {
          "output_type": "stream",
          "name": "stdout",
          "text": [
            "Mounted at /content/drive\n"
          ]
        },
        {
          "output_type": "display_data",
          "data": {
            "text/plain": [
              "<IPython.core.display.Javascript object>"
            ],
            "application/javascript": [
              "(async (port, path, width, height, cache, element) => {\n",
              "    if (!google.colab.kernel.accessAllowed && !cache) {\n",
              "      return;\n",
              "    }\n",
              "    element.appendChild(document.createTextNode(''));\n",
              "    const url = await google.colab.kernel.proxyPort(port, {cache});\n",
              "    const iframe = document.createElement('iframe');\n",
              "    iframe.src = new URL(path, url).toString();\n",
              "    iframe.height = height;\n",
              "    iframe.width = width;\n",
              "    iframe.style.border = 0;\n",
              "    iframe.allow = [\n",
              "        'accelerometer',\n",
              "        'autoplay',\n",
              "        'camera',\n",
              "        'clipboard-read',\n",
              "        'clipboard-write',\n",
              "        'gyroscope',\n",
              "        'magnetometer',\n",
              "        'microphone',\n",
              "        'serial',\n",
              "        'usb',\n",
              "        'xr-spatial-tracking',\n",
              "    ].join('; ');\n",
              "    element.appendChild(iframe);\n",
              "  })(8050, \"/\", \"100%\", 650, false, window.element)"
            ]
          },
          "metadata": {}
        }
      ],
      "source": [
        "#%pip install osmnx\n",
        "#%pip install dash\n",
        "#%pip install dash_leaflet\n",
        "#%pip install dash_bootstrap_components\n",
        "\n",
        "import dash\n",
        "from dash import Dash\n",
        "import dash_bootstrap_components as dbc\n",
        "#import dash_html_components as html\n",
        "from dash import html, callback_context, ALL\n",
        "from dash import dcc, Output, Input, State, callback\n",
        "import dash_leaflet as dl\n",
        "import re\n",
        "import json\n",
        "import pandas as pd\n",
        "\n",
        "\n",
        "from google.colab import drive\n",
        "drive.mount('/content/drive',  force_remount=True)\n",
        "\n",
        "im1 = '/content/drive/MyDrive/Colab Notebooks/CSL_GIPUZKOA/CSL_logo.PNG'\n",
        "im2 = '/content/drive/MyDrive/Colab Notebooks/CSL_GIPUZKOA/DFG_logo.png'\n",
        "from PIL import Image\n",
        "image1 = Image.open(im1)\n",
        "image2 = Image.open(im2)\n",
        "\n",
        "center = (43.26852347667122, -1.9741372404905988)\n",
        "#    iconUrl= 'https://uxwing.com/wp-content/themes/uxwing/download/location-travel-map/bus-stop-icon.png',\n",
        "#    iconUrl= \"https://i.ibb.co/6n1tzcQ/bus-stop.png\",\n",
        "custom_icon = dict(\n",
        "    iconUrl= \"https://i.ibb.co/HV0K5Fp/bus-stop.png\",\n",
        "    iconSize=[40,40],\n",
        "    iconAnchor=[22, 40]\n",
        ")\n",
        "\n",
        "\n",
        "app = Dash(prevent_initial_callbacks=True)\n",
        "app.layout = html.Div([\n",
        "    html.Img(src=image1,style={'width':'40%', \"display\": \"inlineBlock\", \"verticalAlign\": \"top\"}),\n",
        "    html.Img(src=image2,style={'width':'25%',\"display\": \"inlineBlock\", \"verticalAlign\": \"top\"}),\n",
        "    html.Div(dl.Map([dl.TileLayer()],\n",
        "                     center=center, zoom=12, id=\"map\",\n",
        "                     style={'width': '100%', 'height': '50vh', 'margin': \"auto\", \"display\": \"block\"})),\n",
        "    dbc.Button(\"Load stops\", id=\"load_stops\", n_clicks=0),\n",
        "    html.Div(id='clickdata'),\n",
        "    dcc.Store(id='internal-value', data=[])\n",
        "])\n",
        "\n",
        "#@app.callback([Output(\"clickdata\", \"children\")],\n",
        "@app.callback([Output(\"clickdata\", \"children\"), Output('internal-value','data',allow_duplicate=True),Output('map','children',allow_duplicate=True)],\n",
        "              [Input(\"load_stops\", \"n_clicks\")]\n",
        "              )\n",
        "def load_stops(N):\n",
        "    filename = '/content/drive/MyDrive/Colab Notebooks/CSL_GIPUZKOA/Accessibility_Map/INPUT_stops.csv'\n",
        "    df = pd.read_csv(filename)\n",
        "    #out=St.loc[:'Lat']\n",
        "    #for i in range(len(St)):\n",
        "    #    out = out + str(St.loc[i,['Lat']]) + ', ' + str(St.loc[i,['Lon']]) + '; '\n",
        "    out = ''\n",
        "    St = []\n",
        "    for ind in df.index:\n",
        "         out = out + str(df['Lat'][ind]) + ',' + str(df['Lon'][ind]) +';'\n",
        "         St.append((df['Lat'][ind],df['Lon'][ind]))\n",
        "    markers = [dl.Marker(dl.Tooltip(\"Double click on Marker to remove it\"), position=pos, icon=custom_icon, id={'type': 'marker', 'index': i}) for i, pos in enumerate(St)]\n",
        "    newMap = dl.Map([dl.TileLayer()] + markers,\n",
        "                     center=center, zoom=12, id=\"map\",\n",
        "                     style={'width': '100%', 'height': '50vh', 'margin': \"auto\", \"display\": \"block\"})\n",
        "    #return [out,St,newMap]\n",
        "    return [out,St,newMap]\n",
        "\n",
        "\n",
        "@app.callback([Output(\"clickdata\", \"children\",allow_duplicate=True), Output('internal-value','data',allow_duplicate=True),Output('map','children',allow_duplicate=True)],\n",
        "              [State('internal-value','data')],\n",
        "              [Input('map','clickData')]\n",
        "              )\n",
        "def add_marker(St,clickd):\n",
        "    marker_lat = clickd['latlng']['lat']\n",
        "    marker_lon = clickd['latlng']['lng']\n",
        "    St.append((marker_lat,marker_lon))\n",
        "    out=''\n",
        "    for i in range(len(St)):\n",
        "        out = out + str(St[i][0]) + ', ' + str(St[i][1]) + '; '\n",
        "    #markers = [dl.Marker(dl.Tooltip(\"double click on Marker after drag to update its position\"), position=pos, id=\"marker{}\".format(i), draggable=True) for i, pos in enumerate(St)]\n",
        "    #Layer_group = dl.LayerGroup(markers, id=\"markers_group\")\n",
        "    #Layer_group = dl.LayerGroup(markers, id={\"type\": \"markers_group\", \"index\": 0})\n",
        "    #markers = [dl.Marker(id={'type': 'marker', 'index': key}, position=data[key]) for key in data]\n",
        "    markers = [dl.Marker(dl.Tooltip(\"Double click on Marker to remove it\"), position=pos, icon=custom_icon, id={'type': 'marker', 'index': i}) for i, pos in enumerate(St)]\n",
        "    newMap = dl.Map([dl.TileLayer()] + markers,\n",
        "                     center=center, zoom=12, id=\"map\",\n",
        "                     style={'width': '100%', 'height': '50vh', 'margin': \"auto\", \"display\": \"block\"})\n",
        "    return [out,St,newMap]\n",
        "\n",
        "@app.callback([Output(\"clickdata\", \"children\",allow_duplicate=True),Output('internal-value','data',allow_duplicate=True),Output('map','children',allow_duplicate=True)],\n",
        "              [State('internal-value','data')],\n",
        "              [Input({\"type\": \"marker\", \"index\": ALL},\"n_clicks\")],\n",
        "              prevent_initial_callbacks=True)\n",
        "def remove_marker(St,*args):\n",
        "    marker_id = callback_context.triggered[0][\"prop_id\"].split(\".\")[0].split(\":\")[1].split(\",\")[0]\n",
        "    n_clicks = callback_context.triggered[0][\"value\"]\n",
        "    if n_clicks ==2:\n",
        "       del St[int(marker_id)]\n",
        "    out=''\n",
        "    for i in range(len(St)):\n",
        "        out = out + str(St[i][0]) + ', ' + str(St[i][1]) + '; '\n",
        "    markers = [dl.Marker(dl.Tooltip(\"Double click on Marker to remove it\"), position=pos, icon=custom_icon, id={'type': 'marker', 'index': i}) for i, pos in enumerate(St)]\n",
        "    newMap = dl.Map([dl.TileLayer()] + markers,\n",
        "                     center=center, zoom=12, id=\"map\",\n",
        "                     style={'width': '100%', 'height': '50vh', 'margin': \"auto\", \"display\": \"block\"})\n",
        "    return [out,St,newMap]\n",
        "\n",
        "\n",
        "if __name__ == '__main__':\n",
        "    app.run_server(Debug=True)"
      ]
    }
  ]
}