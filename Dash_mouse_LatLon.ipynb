{
  "nbformat": 4,
  "nbformat_minor": 0,
  "metadata": {
    "colab": {
      "provenance": [],
      "authorship_tag": "ABX9TyOyqx0KhOydSKEJiC9kt8Ob",
      "include_colab_link": true
    },
    "kernelspec": {
      "name": "python3",
      "display_name": "Python 3"
    },
    "language_info": {
      "name": "python"
    }
  },
  "cells": [
    {
      "cell_type": "markdown",
      "metadata": {
        "id": "view-in-github",
        "colab_type": "text"
      },
      "source": [
        "<a href=\"https://colab.research.google.com/github/peppefdf/CSL_Gipuzkoa/blob/main/Dash_mouse_LatLon.ipynb\" target=\"_parent\"><img src=\"https://colab.research.google.com/assets/colab-badge.svg\" alt=\"Open In Colab\"/></a>"
      ]
    },
    {
      "cell_type": "code",
      "execution_count": 34,
      "metadata": {
        "colab": {
          "base_uri": "https://localhost:8080/",
          "height": 671
        },
        "id": "xH-_AJczookt",
        "outputId": "2f1991f5-1e1d-43f1-a33d-e678d3fb577c"
      },
      "outputs": [
        {
          "output_type": "display_data",
          "data": {
            "text/plain": [
              "<IPython.core.display.Javascript object>"
            ],
            "application/javascript": [
              "(async (port, path, width, height, cache, element) => {\n",
              "    if (!google.colab.kernel.accessAllowed && !cache) {\n",
              "      return;\n",
              "    }\n",
              "    element.appendChild(document.createTextNode(''));\n",
              "    const url = await google.colab.kernel.proxyPort(port, {cache});\n",
              "    const iframe = document.createElement('iframe');\n",
              "    iframe.src = new URL(path, url).toString();\n",
              "    iframe.height = height;\n",
              "    iframe.width = width;\n",
              "    iframe.style.border = 0;\n",
              "    iframe.allow = [\n",
              "        'accelerometer',\n",
              "        'autoplay',\n",
              "        'camera',\n",
              "        'clipboard-read',\n",
              "        'clipboard-write',\n",
              "        'gyroscope',\n",
              "        'magnetometer',\n",
              "        'microphone',\n",
              "        'serial',\n",
              "        'usb',\n",
              "        'xr-spatial-tracking',\n",
              "    ].join('; ');\n",
              "    element.appendChild(iframe);\n",
              "  })(8050, \"/\", \"100%\", 650, false, window.element)"
            ]
          },
          "metadata": {}
        }
      ],
      "source": [
        "#%pip install osmnx\n",
        "#%pip install dash\n",
        "#%pip install dash_leaflet\n",
        "\n",
        "import osmnx as ox\n",
        "import networkx as nx\n",
        "from shapely.geometry import Point\n",
        "import json\n",
        "import geopandas as gpd\n",
        "import dash_leaflet as dl\n",
        "from dash import Dash, html, dcc, Output, Input, State, callback\n",
        "from shapely.geometry import Polygon, mapping\n",
        "\n",
        "center = [43.27310034205181,-2.019703226103527]\n",
        "\n",
        "app = Dash()\n",
        "#\n",
        "#    html.Button(id=\"btn_run\"),\n",
        "\n",
        "app.layout = html.Div([\n",
        "    dl.Map([dl.TileLayer(),\n",
        "           dl.Polygon(positions=[], id='position-data')],\n",
        "           id='mapa',\n",
        "           center=center, zoom=14, style={'height': '50vh'}\n",
        "           ),\n",
        "])\n",
        "#    html.P(\"Coordinate (click on map):\"),\n",
        "#    html.Div(id='out_text')\n",
        "\n",
        "#@app.callback(Output('out_text', 'children'),\n",
        "@app.callback(Output('position-data', 'positions'),\n",
        "              Input('mapa', 'clickData'),\n",
        "              prevent_initial_call=True)\n",
        "def on_click(e):\n",
        "    if e is not None:\n",
        "        Lat = e['latlng']['lat']\n",
        "        Lon = e['latlng']['lng']\n",
        "        map_center = (Lat, Lon)\n",
        "        distance = 1000\n",
        "        walk_times = [5,10,15] # in minutes\n",
        "        # download the street network\n",
        "        G = ox.graph_from_point(map_center, dist=distance, network_type='walk', simplify=False)\n",
        "        # get closes graph nodes to origin and destination\n",
        "        orig_node = ox.nearest_nodes(G, map_center[1], map_center[0])\n",
        "        polys = []\n",
        "        for walk_time in walk_times:\n",
        "           subgraph    = nx.ego_graph(G, orig_node, radius=walk_time, distance='time')\n",
        "           node_points = [Point(data[\"x\"], data[\"y\"]) for node, data in subgraph.nodes(data=True)]\n",
        "           #node_points = [[data[\"y\"],data[\"x\"]] for node, data in subgraph.nodes(data=True)]\n",
        "           convhull = gpd.GeoSeries(node_points).unary_union.convex_hull\n",
        "           poly_mapped = mapping(convhull)\n",
        "           poly_coordinates = poly_mapped['coordinates'][0]\n",
        "           poly = [ [coords[1], coords[0]] for coords in poly_coordinates]\n",
        "           polys.append(poly)\n",
        "        return polys[0]\n",
        "        #return json.dumps(polys[0])\n",
        "\n",
        "    else:\n",
        "       pass\n",
        "\n",
        "if __name__ == '__main__':\n",
        "    app.run_server()"
      ]
    }
  ]
}